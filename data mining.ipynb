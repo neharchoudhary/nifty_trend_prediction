{
 "cells": [
  {
   "cell_type": "code",
   "execution_count": 8,
   "id": "43522743-1b17-4bce-adb8-a059ab76fdd2",
   "metadata": {},
   "outputs": [],
   "source": [
    "# -*- coding: utf-8 -*-\n",
    "\"\"\"\n",
    "NiftyDataMining.py\n",
    "\n",
    "This is script to load the NSE data, apply technical indicators\n",
    "Moreover, it fetches data of other indices using multiple predefined CSVs and create a single data frame\n",
    "\"\"\"\n",
    "import pandas as pd\n",
    "import gc\n",
    "from talib import RSI, BBANDS, MACD, EMA, STOCH, ADX\n",
    "import matplotlib.pyplot as plt\n",
    "from nsepy import get_history\n",
    "from datetime import date"
   ]
  },
  {
   "cell_type": "code",
   "execution_count": 16,
   "id": "54449958-3df4-452d-bd07-77870f36b540",
   "metadata": {},
   "outputs": [
    {
     "name": "stdout",
     "output_type": "stream",
     "text": [
      "         Date    Price     Open     High      Low    Close\n",
      "0  2009-04-08  3342.95  3255.35  3357.05  3149.25  3342.95\n",
      "1  2009-04-09  3342.05  3346.00  3401.15  3307.05  3342.05\n"
     ]
    }
   ],
   "source": [
    "# Read the CSV file into a DataFrame\n",
    "df = pd.read_csv(\"reversed_nifty_data.csv\")\n",
    "\n",
    "#this is reference start date before EMA 200 days will fetch null\n",
    "ref_startdate = date(2009,4,8)\n",
    "\n",
    "#actual start date and end date from where the Nifty model to be built\n",
    "startdate = date(2009, 11, 25)\n",
    "enddate = date(2024,4,3)\n",
    "\n",
    "# Display the first few rows of the DataFrame\n",
    "print(df.head(2))\n"
   ]
  },
  {
   "cell_type": "code",
   "execution_count": 18,
   "id": "a439d82c-f94a-4bbc-a9a4-829f64b06b01",
   "metadata": {},
   "outputs": [
    {
     "name": "stdout",
     "output_type": "stream",
     "text": [
      "               Price     Open     High       Low     Close       EMA-200  \\\n",
      "Date                                                                       \n",
      "2024-04-02  22453.30  22458.8  22497.6  22388.15  22453.30  20605.261750   \n",
      "2024-04-03  22434.65  22385.7  22521.1  22346.50  22434.65  20623.464618   \n",
      "\n",
      "                 EMA-100        EMA-50        EMA-21         EMA-5       MACD  \\\n",
      "Date                                                                            \n",
      "2024-04-02  21449.743792  21951.494102  22164.536900  22316.863088  71.143083   \n",
      "2024-04-03  21469.246885  21970.441392  22189.092637  22356.125392  83.832115   \n",
      "\n",
      "              macdEMA  macdHistory     RSI-14  BollingerUpperBand  \\\n",
      "Date                                                                \n",
      "2024-04-02  45.987117    25.155966  60.592400        22637.888451   \n",
      "2024-04-03  53.556116    30.275999  59.854996        22615.659613   \n",
      "\n",
      "            BollingerMiddleBand  BollingerLowerBand  \n",
      "Date                                                 \n",
      "2024-04-02             22274.11        21910.331549  \n",
      "2024-04-03             22360.10        22104.540387  \n"
     ]
    }
   ],
   "source": [
    "# Set 'Date' column as the index\n",
    "df.set_index('Date', inplace=True)\n",
    "\n",
    "# Calculating technical indicators such as EMA-200, EMA-100, EMA-50, EMA-21, EMA-5, MACD, RSI-14, Bollinger Bands\n",
    "EMA_200 = EMA(df['Close'], 200)\n",
    "EMA_100 = EMA(df['Close'], 100)\n",
    "EMA_50 = EMA(df['Close'], 50)\n",
    "EMA_21 = EMA(df['Close'], 21)\n",
    "EMA_5 = EMA(df['Close'], 5)\n",
    "df['EMA-200'] = EMA_200\n",
    "df['EMA-100'] = EMA_100\n",
    "df['EMA-50'] = EMA_50\n",
    "df['EMA-21'] = EMA_21\n",
    "df['EMA-5'] = EMA_5\n",
    "df['MACD'], df['macdEMA'], df['macdHistory'] = MACD(df['Close'], fastperiod=12, slowperiod=26, signalperiod=9)\n",
    "df['RSI-14'] = RSI(df['Close'], timeperiod=14)\n",
    "df['BollingerUpperBand'], df['BollingerMiddleBand'], df['BollingerLowerBand'] = BBANDS(df['Close'], timeperiod=5, nbdevup=2, nbdevdn=2, matype=0)\n",
    "\n",
    "# Print the DataFrame\n",
    "print(df.tail(2))\n"
   ]
  },
  {
   "cell_type": "code",
   "execution_count": 19,
   "id": "cfdd42d5-4fb8-48b2-9f1a-b20530649d84",
   "metadata": {},
   "outputs": [
    {
     "name": "stdout",
     "output_type": "stream",
     "text": [
      "         Date  Price\n",
      "0  2024-04-02  89.29\n",
      "1  2024-04-01  87.42\n"
     ]
    }
   ],
   "source": [
    "df.index = (pd.to_datetime(df.index))\n",
    "\n",
    "df= df[startdate:]\n",
    "#Importing Brent Crude price Data from CSV\"\"\"\n",
    "df1=pd.read_csv(\"BrentCrude.csv\")\n",
    "print(df1.head(2))"
   ]
  },
  {
   "cell_type": "code",
   "execution_count": 21,
   "id": "a4145f7f-4fb9-44b4-bfba-0fb0b88b5118",
   "metadata": {},
   "outputs": [
    {
     "name": "stdout",
     "output_type": "stream",
     "text": [
      "           Date   Price_x     Open     High       Low     Close       EMA-200  \\\n",
      "3559 2024-04-02  22453.30  22458.8  22497.6  22388.15  22453.30  20605.261750   \n",
      "3560 2024-04-03  22434.65  22385.7  22521.1  22346.50  22434.65  20623.464618   \n",
      "\n",
      "           EMA-100        EMA-50        EMA-21         EMA-5       MACD  \\\n",
      "3559  21449.743792  21951.494102  22164.536900  22316.863088  71.143083   \n",
      "3560  21469.246885  21970.441392  22189.092637  22356.125392  83.832115   \n",
      "\n",
      "        macdEMA  macdHistory     RSI-14  BollingerUpperBand  \\\n",
      "3559  45.987117    25.155966  60.592400        22637.888451   \n",
      "3560  53.556116    30.275999  59.854996        22615.659613   \n",
      "\n",
      "      BollingerMiddleBand  BollingerLowerBand  Price_y  \n",
      "3559             22274.11        21910.331549    89.29  \n",
      "3560             22360.10        22104.540387    89.29  \n"
     ]
    }
   ],
   "source": [
    "# Convert column name Date from String datatype to Date datatype\"\"\"\n",
    "df1['Date']=pd.to_datetime(df1['Date'])\n",
    "\n",
    "#Sort the Sheet based on Date ascending order. This is one of pre-requisite to merge different dataframe.\n",
    "#Dataframe that has to be merged should be sorted by join columns. In this case, join column is date.\n",
    "#Hence, it is sorted based on Date column\n",
    "df1=df1.sort_values(by=['Date'],ascending=True)\n",
    "df=pd.merge_asof(df,df1,on='Date')\n",
    "print(df.tail(2))"
   ]
  },
  {
   "cell_type": "code",
   "execution_count": 22,
   "id": "0ad4a2ed-4604-451d-92af-e677447322fc",
   "metadata": {},
   "outputs": [
    {
     "name": "stdout",
     "output_type": "stream",
     "text": [
      "           Date   Price_x     Open     High       Low     Close       EMA-200  \\\n",
      "3559 2024-04-02  22453.30  22458.8  22497.6  22388.15  22453.30  20605.261750   \n",
      "3560 2024-04-03  22434.65  22385.7  22521.1  22346.50  22434.65  20623.464618   \n",
      "\n",
      "           EMA-100        EMA-50        EMA-21         EMA-5       MACD  \\\n",
      "3559  21449.743792  21951.494102  22164.536900  22316.863088  71.143083   \n",
      "3560  21469.246885  21970.441392  22189.092637  22356.125392  83.832115   \n",
      "\n",
      "        macdEMA  macdHistory     RSI-14  BollingerUpperBand  \\\n",
      "3559  45.987117    25.155966  60.592400        22637.888451   \n",
      "3560  53.556116    30.275999  59.854996        22615.659613   \n",
      "\n",
      "      BollingerMiddleBand  BollingerLowerBand  Price_y     Price  \n",
      "3559             22274.11        21910.331549    89.29  39171.22  \n",
      "3560             22360.10        22104.540387    89.29  39171.22  \n"
     ]
    }
   ],
   "source": [
    "# Importing Dow Historical price Data from CSV. And perform similar action like BrentCrude price data\"\"\"\n",
    "df1=pd.read_csv(\"DowHistorical.csv\")\n",
    "df1['Date']=pd.to_datetime(df1['Date'])\n",
    "df1=df1.sort_values(by=['Date'],ascending=True)\n",
    "df=pd.merge_asof(df,df1,on='Date')\n",
    "print(df.tail(2))"
   ]
  },
  {
   "cell_type": "code",
   "execution_count": 23,
   "id": "4c0d37b4-6b26-4b92-99dd-056d8bf97e15",
   "metadata": {},
   "outputs": [
    {
     "name": "stdout",
     "output_type": "stream",
     "text": [
      "           Date   Price_x     Open     High       Low     Close       EMA-200  \\\n",
      "3559 2024-04-02  22453.30  22458.8  22497.6  22388.15  22453.30  20605.261750   \n",
      "3560 2024-04-03  22434.65  22385.7  22521.1  22346.50  22434.65  20623.464618   \n",
      "\n",
      "           EMA-100        EMA-50        EMA-21         EMA-5       MACD  \\\n",
      "3559  21449.743792  21951.494102  22164.536900  22316.863088  71.143083   \n",
      "3560  21469.246885  21970.441392  22189.092637  22356.125392  83.832115   \n",
      "\n",
      "        macdEMA  macdHistory     RSI-14  BollingerUpperBand  \\\n",
      "3559  45.987117    25.155966  60.592400        22637.888451   \n",
      "3560  53.556116    30.275999  59.854996        22615.659613   \n",
      "\n",
      "      BollingerMiddleBand  BollingerLowerBand  Price_y     Price  \n",
      "3559             22274.11        21910.331549    89.29  39171.22  \n",
      "3560             22360.10        22104.540387    89.29  39171.22  \n"
     ]
    }
   ],
   "source": [
    "\n",
    "print(df.tail(2))"
   ]
  },
  {
   "cell_type": "code",
   "execution_count": 27,
   "id": "dc06768d-6e47-49e4-81e9-d09c42f9b966",
   "metadata": {},
   "outputs": [
    {
     "name": "stdout",
     "output_type": "stream",
     "text": [
      "           Date   Price_x     Open     High       Low     Close       EMA-200  \\\n",
      "3559 2024-04-02  22453.30  22458.8  22497.6  22388.15  22453.30  20605.261750   \n",
      "3560 2024-04-03  22434.65  22385.7  22521.1  22346.50  22434.65  20623.464618   \n",
      "\n",
      "           EMA-100        EMA-50        EMA-21  ...       MACD    macdEMA  \\\n",
      "3559  21449.743792  21951.494102  22164.536900  ...  71.143083  45.987117   \n",
      "3560  21469.246885  21970.441392  22189.092637  ...  83.832115  53.556116   \n",
      "\n",
      "      macdHistory     RSI-14  BollingerUpperBand  BollingerMiddleBand  \\\n",
      "3559    25.155966  60.592400        22637.888451             22274.11   \n",
      "3560    30.275999  59.854996        22615.659613             22360.10   \n",
      "\n",
      "      BollingerLowerBand  Price_y     Price     FTSE  \n",
      "3559        21910.331549    89.29  39171.22  7935.09  \n",
      "3560        22104.540387    89.29  39171.22  7937.44  \n",
      "\n",
      "[2 rows x 21 columns]\n"
     ]
    }
   ],
   "source": [
    "\"\"\" Importing FTSE Historical price Data from CSV. And perform similar action like BrentCrude price data\"\"\"\n",
    "df1=pd.read_csv(\"FTSE_Historical.csv\")\n",
    "df1['Date']=pd.to_datetime(df1['Date'])\n",
    "df1=df1.sort_values(by=['Date'],ascending=True)\n",
    "df=pd.merge_asof(df,df1,on='Date')\n",
    "print(df.tail(2))"
   ]
  },
  {
   "cell_type": "code",
   "execution_count": null,
   "id": "d6fca8e6-bf85-4391-a183-ac9f73746acf",
   "metadata": {},
   "outputs": [],
   "source": []
  }
 ],
 "metadata": {
  "kernelspec": {
   "display_name": "Python 3 (ipykernel)",
   "language": "python",
   "name": "python3"
  },
  "language_info": {
   "codemirror_mode": {
    "name": "ipython",
    "version": 3
   },
   "file_extension": ".py",
   "mimetype": "text/x-python",
   "name": "python",
   "nbconvert_exporter": "python",
   "pygments_lexer": "ipython3",
   "version": "3.10.14"
  }
 },
 "nbformat": 4,
 "nbformat_minor": 5
}
